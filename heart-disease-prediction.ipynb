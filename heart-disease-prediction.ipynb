{
 "cells": [
  {
   "cell_type": "code",
   "execution_count": null,
   "metadata": {
    "_cell_guid": "b1076dfc-b9ad-4769-8c92-a6c4dae69d19",
    "_uuid": "8f2839f25d086af736a60e9eeb907d3b93b6e0e5",
    "execution": {
     "iopub.execute_input": "2025-05-06T20:44:52.494587Z",
     "iopub.status.busy": "2025-05-06T20:44:52.494140Z",
     "iopub.status.idle": "2025-05-06T20:44:52.501523Z",
     "shell.execute_reply": "2025-05-06T20:44:52.500422Z",
     "shell.execute_reply.started": "2025-05-06T20:44:52.494552Z"
    },
    "trusted": true
   },
   "outputs": [
    {
     "name": "stdout",
     "output_type": "stream",
     "text": [
      "/kaggle/input/heart-disease-data/Heart_Attack_Risk_Levels_Dataset.csv\n"
     ]
    }
   ],
   "source": [
    "# This Python 3 environment comes with many helpful analytics libraries installed\n",
    "# It is defined by the kaggle/python Docker image: https://github.com/kaggle/docker-python\n",
    "# For example, here's several helpful packages to load\n",
    "\n",
    "import numpy as np # linear algebra\n",
    "import pandas as pd # data processing, CSV file I/O (e.g. pd.read_csv)\n",
    "\n",
    "# Input data files are available in the read-only \"../input/\" directory\n",
    "# For example, running this (by clicking run or pressing Shift+Enter) will list all files under the input directory\n",
    "\n",
    "import os\n",
    "for dirname, _, filenames in os.walk('/kaggle/input'):\n",
    "    for filename in filenames:\n",
    "        print(os.path.join(dirname, filename))\n",
    "\n",
    "# You can write up to 20GB to the current directory (/kaggle/working/) that gets preserved as output when you create a version using \"Save & Run All\" \n",
    "# You can also write temporary files to /kaggle/temp/, but they won't be saved outside of the current session"
   ]
  },
  {
   "cell_type": "code",
   "execution_count": null,
   "metadata": {
    "execution": {
     "iopub.execute_input": "2025-05-06T20:44:52.503591Z",
     "iopub.status.busy": "2025-05-06T20:44:52.503260Z",
     "iopub.status.idle": "2025-05-06T20:44:52.522324Z",
     "shell.execute_reply": "2025-05-06T20:44:52.521336Z",
     "shell.execute_reply.started": "2025-05-06T20:44:52.503563Z"
    },
    "trusted": true
   },
   "outputs": [],
   "source": [
    "import pandas as pd\n",
    "import numpy as np\n",
    "import matplotlib.pyplot as plt\n",
    "import seaborn as sns\n",
    "from sklearn.model_selection import train_test_split\n",
    "from sklearn.linear_model import LogisticRegression\n",
    "from sklearn.metrics import accuracy_score, confusion_matrix, classification_report"
   ]
  },
  {
   "cell_type": "markdown",
   "metadata": {},
   "source": [
    "# Loading the dataset"
   ]
  },
  {
   "cell_type": "code",
   "execution_count": null,
   "metadata": {
    "execution": {
     "iopub.execute_input": "2025-05-06T20:44:52.523547Z",
     "iopub.status.busy": "2025-05-06T20:44:52.523263Z",
     "iopub.status.idle": "2025-05-06T20:44:52.547972Z",
     "shell.execute_reply": "2025-05-06T20:44:52.547104Z",
     "shell.execute_reply.started": "2025-05-06T20:44:52.523523Z"
    },
    "trusted": true
   },
   "outputs": [],
   "source": [
    "df = pd.read_csv('/kaggle/input/heart-disease-data/Heart_Attack_Risk_Levels_Dataset.csv')"
   ]
  },
  {
   "cell_type": "markdown",
   "metadata": {},
   "source": [
    "# Data analysis"
   ]
  },
  {
   "cell_type": "code",
   "execution_count": null,
   "metadata": {
    "execution": {
     "iopub.execute_input": "2025-05-06T20:44:52.549240Z",
     "iopub.status.busy": "2025-05-06T20:44:52.548912Z",
     "iopub.status.idle": "2025-05-06T20:44:52.578210Z",
     "shell.execute_reply": "2025-05-06T20:44:52.577444Z",
     "shell.execute_reply.started": "2025-05-06T20:44:52.549213Z"
    },
    "trusted": true
   },
   "outputs": [
    {
     "name": "stdout",
     "output_type": "stream",
     "text": [
      "First 5 rows:\n",
      "   Age  Gender  Heart rate  Systolic blood pressure  Diastolic blood pressure  \\\n",
      "0   63       1          66                      160                        83   \n",
      "1   20       1          94                       98                        46   \n",
      "2   56       1          64                      160                        77   \n",
      "3   66       1          70                      120                        55   \n",
      "4   54       1          64                      112                        65   \n",
      "\n",
      "   Blood sugar  CK-MB  Troponin    Result Risk_Level  \\\n",
      "0        160.0   1.80     0.012  negative   Moderate   \n",
      "1        296.0   6.75     1.060  positive       High   \n",
      "2        270.0   1.99     0.003  negative   Moderate   \n",
      "3        270.0  13.87     0.122  positive       High   \n",
      "4        300.0   1.08     0.003  negative   Moderate   \n",
      "\n",
      "                       Recommendation  \n",
      "0  Monitor closely and consult doctor  \n",
      "1         Immediate medical attention  \n",
      "2  Monitor closely and consult doctor  \n",
      "3         Immediate medical attention  \n",
      "4  Monitor closely and consult doctor  \n",
      "\n",
      "Dataset shape: (1319, 11)\n",
      "\n",
      "Missing values check:\n",
      "Age                         0\n",
      "Gender                      0\n",
      "Heart rate                  0\n",
      "Systolic blood pressure     0\n",
      "Diastolic blood pressure    0\n",
      "Blood sugar                 0\n",
      "CK-MB                       0\n",
      "Troponin                    0\n",
      "Result                      0\n",
      "Risk_Level                  0\n",
      "Recommendation              0\n",
      "dtype: int64\n",
      "\n",
      "Statistical summary:\n",
      "               Age       Gender   Heart rate  Systolic blood pressure  \\\n",
      "count  1319.000000  1319.000000  1319.000000              1319.000000   \n",
      "mean     56.193328     0.659591    78.336619               127.170584   \n",
      "std      13.638173     0.474027    51.630270                26.122720   \n",
      "min      14.000000     0.000000    20.000000                42.000000   \n",
      "25%      47.000000     0.000000    64.000000               110.000000   \n",
      "50%      58.000000     1.000000    74.000000               124.000000   \n",
      "75%      65.000000     1.000000    85.000000               143.000000   \n",
      "max     103.000000     1.000000  1111.000000               223.000000   \n",
      "\n",
      "       Diastolic blood pressure  Blood sugar        CK-MB     Troponin  \n",
      "count               1319.000000  1319.000000  1319.000000  1319.000000  \n",
      "mean                  72.269143   146.634344    15.274306     0.360942  \n",
      "std                   14.033924    74.923045    46.327083     1.154568  \n",
      "min                   38.000000    35.000000     0.321000     0.001000  \n",
      "25%                   62.000000    98.000000     1.655000     0.006000  \n",
      "50%                   72.000000   116.000000     2.850000     0.014000  \n",
      "75%                   81.000000   169.500000     5.805000     0.085500  \n",
      "max                  154.000000   541.000000   300.000000    10.300000  \n",
      "\n",
      "Risk Level distribution:\n",
      "Risk_Level\n",
      "High        812\n",
      "Low         275\n",
      "Moderate    232\n",
      "Name: count, dtype: int64\n"
     ]
    }
   ],
   "source": [
    "print(\"First 5 rows:\")\n",
    "print(df.head())\n",
    "\n",
    "print(\"\\nDataset shape:\", df.shape)\n",
    "\n",
    "print(\"\\nMissing values check:\")\n",
    "print(df.isnull().sum())\n",
    "\n",
    "print(\"\\nStatistical summary:\")\n",
    "print(df.describe())\n",
    "\n",
    "print(\"\\nRisk Level distribution:\")\n",
    "print(df['Risk_Level'].value_counts())"
   ]
  },
  {
   "cell_type": "markdown",
   "metadata": {},
   "source": [
    "# Data preprocessing"
   ]
  },
  {
   "cell_type": "code",
   "execution_count": null,
   "metadata": {
    "execution": {
     "iopub.execute_input": "2025-05-06T20:44:52.580098Z",
     "iopub.status.busy": "2025-05-06T20:44:52.579842Z",
     "iopub.status.idle": "2025-05-06T20:44:52.586741Z",
     "shell.execute_reply": "2025-05-06T20:44:52.585782Z",
     "shell.execute_reply.started": "2025-05-06T20:44:52.580078Z"
    },
    "trusted": true
   },
   "outputs": [
    {
     "name": "stdout",
     "output_type": "stream",
     "text": [
      "Columns in dataset: ['Age', 'Gender', 'Heart rate', 'Systolic blood pressure', 'Diastolic blood pressure', 'Blood sugar', 'CK-MB', 'Troponin', 'Result', 'Risk_Level', 'Recommendation']\n"
     ]
    }
   ],
   "source": [
    "risk_mapping = {'Low': 0, 'Moderate': 1, 'High': 2}\n",
    "df['Risk_Level'] = df['Risk_Level'].map(risk_mapping)\n",
    "\n",
    "print(\"Columns in dataset:\", df.columns.tolist())"
   ]
  },
  {
   "cell_type": "markdown",
   "metadata": {},
   "source": [
    "# Train-Test Split"
   ]
  },
  {
   "cell_type": "code",
   "execution_count": null,
   "metadata": {
    "execution": {
     "iopub.execute_input": "2025-05-06T20:44:52.588075Z",
     "iopub.status.busy": "2025-05-06T20:44:52.587742Z",
     "iopub.status.idle": "2025-05-06T20:44:52.606700Z",
     "shell.execute_reply": "2025-05-06T20:44:52.605859Z",
     "shell.execute_reply.started": "2025-05-06T20:44:52.588048Z"
    },
    "trusted": true
   },
   "outputs": [],
   "source": [
    "X = df.drop('Risk_Level', axis=1) \n",
    "y = df['Risk_Level']\n",
    "\n",
    "X_train, X_test, y_train, y_test = train_test_split(X, y, test_size=0.2, random_state=1)"
   ]
  },
  {
   "cell_type": "markdown",
   "metadata": {},
   "source": [
    "# Model training and scaling"
   ]
  },
  {
   "cell_type": "code",
   "execution_count": null,
   "metadata": {
    "execution": {
     "iopub.execute_input": "2025-05-06T20:44:52.607933Z",
     "iopub.status.busy": "2025-05-06T20:44:52.607677Z",
     "iopub.status.idle": "2025-05-06T20:44:52.672330Z",
     "shell.execute_reply": "2025-05-06T20:44:52.671582Z",
     "shell.execute_reply.started": "2025-05-06T20:44:52.607912Z"
    },
    "scrolled": true,
    "trusted": true
   },
   "outputs": [
    {
     "name": "stdout",
     "output_type": "stream",
     "text": [
      "\n",
      "Model trained successfully!\n",
      "Training accuracy: 0.9649289099526066\n",
      "Test accuracy: 0.9772727272727273\n"
     ]
    }
   ],
   "source": [
    "from sklearn.preprocessing import LabelEncoder, StandardScaler\n",
    "from sklearn.model_selection import train_test_split\n",
    "from sklearn.linear_model import LogisticRegression\n",
    "\n",
    "df = pd.read_csv('/kaggle/input/heart-disease-data/Heart_Attack_Risk_Levels_Dataset.csv')\n",
    "\n",
    "df['Risk_Level'] = df['Risk_Level'].map({'Low':0, 'Moderate':1, 'High':2})\n",
    "\n",
    "df = df.drop(['Recommendation'], axis=1)\n",
    "\n",
    "\n",
    "for col in df.columns:\n",
    "    if df[col].dtype == 'object':  \n",
    "        df[col] = LabelEncoder().fit_transform(df[col])\n",
    "\n",
    "\n",
    "X = df.drop('Risk_Level', axis=1)\n",
    "y = df['Risk_Level']\n",
    "X_train, X_test, y_train, y_test = train_test_split(X, y, test_size=0.2, random_state=42)\n",
    "\n",
    "scaler = StandardScaler()\n",
    "X_train_scaled = scaler.fit_transform(X_train)\n",
    "X_test_scaled = scaler.transform(X_test)\n",
    "\n",
    "model = LogisticRegression(\n",
    "    solver='lbfgs',\n",
    "    max_iter=1000,\n",
    "    penalty='l2',\n",
    "    C=1.0\n",
    ")\n",
    "model.fit(X_train_scaled, y_train)\n",
    "\n",
    "print(\"\\nModel trained successfully!\")\n",
    "print(\"Training accuracy:\", model.score(X_train_scaled, y_train))\n",
    "print(\"Test accuracy:\", model.score(X_test_scaled, y_test))"
   ]
  }
 ],
 "metadata": {
  "kaggle": {
   "accelerator": "none",
   "dataSources": [
    {
     "datasetId": 7345763,
     "sourceId": 11703059,
     "sourceType": "datasetVersion"
    }
   ],
   "dockerImageVersionId": 31012,
   "isGpuEnabled": false,
   "isInternetEnabled": true,
   "language": "python",
   "sourceType": "notebook"
  },
  "kernelspec": {
   "display_name": "Python 3",
   "language": "python",
   "name": "python3"
  },
  "language_info": {
   "codemirror_mode": {
    "name": "ipython",
    "version": 3
   },
   "file_extension": ".py",
   "mimetype": "text/x-python",
   "name": "python",
   "nbconvert_exporter": "python",
   "pygments_lexer": "ipython3",
   "version": "3.11.11"
  }
 },
 "nbformat": 4,
 "nbformat_minor": 4
}
